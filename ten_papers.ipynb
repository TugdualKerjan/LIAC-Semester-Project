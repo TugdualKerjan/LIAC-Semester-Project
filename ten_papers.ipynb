{
 "cells": [
  {
   "cell_type": "markdown",
   "metadata": {},
   "source": [
    "# Rephrasing Chemistry\n",
    "\n",
    "### Using 10 papers to start with to get a feel of what's to be done on a larger scale."
   ]
  }
 ],
 "metadata": {
  "kernelspec": {
   "display_name": "hurst",
   "language": "python",
   "name": "python3"
  },
  "language_info": {
   "name": "python",
   "version": "3.10.13"
  }
 },
 "nbformat": 4,
 "nbformat_minor": 2
}
